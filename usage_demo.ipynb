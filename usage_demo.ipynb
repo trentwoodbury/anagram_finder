{
 "cells": [
  {
   "cell_type": "code",
   "execution_count": 43,
   "metadata": {
    "collapsed": false
   },
   "outputs": [],
   "source": [
    "from AnagramFinder import AnagramFinder\n",
    "\n",
    "import numpy as np\n",
    "import time"
   ]
  },
  {
   "cell_type": "code",
   "execution_count": 41,
   "metadata": {
    "collapsed": false
   },
   "outputs": [],
   "source": [
    "def time_anagram_check(function):\n",
    "    def wrapper_print_time(*args, **kwargs):\n",
    "        start_time = time.time()\n",
    "        function(*args, **kwargs)\n",
    "        end_time = time.time()\n",
    "        time_elapsed = end_time - start_time\n",
    "        print(\"Runtime: {} seconds\".format(np.round(time_elapsed, 3)))\n",
    "    return wrapper_print_time\n",
    "    \n",
    "@time_anagram_check\n",
    "def run_search(word, anagram_finder_object):\n",
    "    anagram_finder_object.search_for_anagrams(word)"
   ]
  },
  {
   "cell_type": "code",
   "execution_count": 34,
   "metadata": {
    "collapsed": true
   },
   "outputs": [],
   "source": [
    "af = AnagramFinder(verbose=True)"
   ]
  },
  {
   "cell_type": "code",
   "execution_count": 57,
   "metadata": {
    "collapsed": false
   },
   "outputs": [
    {
     "name": "stdout",
     "output_type": "stream",
     "text": [
      "Anagrams: []\n",
      "Runtime: 0.054 seconds\n"
     ]
    }
   ],
   "source": [
    "run_search(\"a\", af)"
   ]
  },
  {
   "cell_type": "code",
   "execution_count": 44,
   "metadata": {
    "collapsed": false
   },
   "outputs": [
    {
     "name": "stdout",
     "output_type": "stream",
     "text": [
      "Anagrams: ['cool']\n",
      "Runtime: 0.148 seconds\n"
     ]
    }
   ],
   "source": [
    "run_search(\"loco\", af)"
   ]
  },
  {
   "cell_type": "code",
   "execution_count": 45,
   "metadata": {
    "collapsed": false
   },
   "outputs": [
    {
     "name": "stdout",
     "output_type": "stream",
     "text": [
      "Anagrams: ['rock']\n",
      "Runtime: 0.121 seconds\n"
     ]
    }
   ],
   "source": [
    "run_search(\"cork\", af)"
   ]
  },
  {
   "cell_type": "code",
   "execution_count": 48,
   "metadata": {
    "collapsed": false
   },
   "outputs": [
    {
     "name": "stdout",
     "output_type": "stream",
     "text": [
      "Anagrams: ['selves']\n",
      "Runtime: 0.153 seconds\n"
     ]
    }
   ],
   "source": [
    "run_search(\"vessel\", af)"
   ]
  },
  {
   "cell_type": "code",
   "execution_count": 52,
   "metadata": {
    "collapsed": false
   },
   "outputs": [
    {
     "name": "stdout",
     "output_type": "stream",
     "text": [
      "Anagrams: ['unidentifiably']\n",
      "Runtime: 0.366 seconds\n"
     ]
    }
   ],
   "source": [
    "run_search(\"undefinability\", af)"
   ]
  },
  {
   "cell_type": "code",
   "execution_count": 54,
   "metadata": {
    "collapsed": false
   },
   "outputs": [
    {
     "name": "stdout",
     "output_type": "stream",
     "text": [
      "Anagrams: []\n",
      "Runtime: 0.547 seconds\n"
     ]
    }
   ],
   "source": [
    "run_search(\"supercalifragilisticexpialidocious\", af)"
   ]
  }
 ],
 "metadata": {
  "anaconda-cloud": {},
  "kernelspec": {
   "display_name": "Python [default]",
   "language": "python",
   "name": "python2"
  },
  "language_info": {
   "codemirror_mode": {
    "name": "ipython",
    "version": 2
   },
   "file_extension": ".py",
   "mimetype": "text/x-python",
   "name": "python",
   "nbconvert_exporter": "python",
   "pygments_lexer": "ipython2",
   "version": "2.7.13"
  }
 },
 "nbformat": 4,
 "nbformat_minor": 1
}
